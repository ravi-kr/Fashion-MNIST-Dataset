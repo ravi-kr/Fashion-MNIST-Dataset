{
  "nbformat": 4,
  "nbformat_minor": 0,
  "metadata": {
    "colab": {
      "name": "Fashion-MNIST-Dataset-Prediction.ipynb",
      "provenance": [],
      "include_colab_link": true
    },
    "kernelspec": {
      "name": "python3",
      "display_name": "Python 3"
    },
    "accelerator": "GPU"
  },
  "cells": [
    {
      "cell_type": "markdown",
      "metadata": {
        "id": "view-in-github",
        "colab_type": "text"
      },
      "source": [
        "<a href=\"https://colab.research.google.com/github/ravi-kr/Fashion-MNIST-Dataset/blob/master/Fashion_MNIST_Dataset_Prediction.ipynb\" target=\"_parent\"><img src=\"https://colab.research.google.com/assets/colab-badge.svg\" alt=\"Open In Colab\"/></a>"
      ]
    },
    {
      "cell_type": "markdown",
      "metadata": {
        "id": "0LC_XCohUb_Z",
        "colab_type": "text"
      },
      "source": [
        "##Loading & Looking at Data"
      ]
    },
    {
      "cell_type": "code",
      "metadata": {
        "id": "q5dbxFKbQCUR",
        "colab_type": "code",
        "colab": {}
      },
      "source": [
        "import tensorflow as tf\n",
        "from tensorflow import keras\n",
        "import numpy as np\n",
        "import matplotlib.pyplot as plt"
      ],
      "execution_count": 0,
      "outputs": []
    },
    {
      "cell_type": "code",
      "metadata": {
        "id": "fJJJ2NxPQgrH",
        "colab_type": "code",
        "colab": {}
      },
      "source": [
        "data = keras.datasets.fashion_mnist"
      ],
      "execution_count": 0,
      "outputs": []
    },
    {
      "cell_type": "code",
      "metadata": {
        "id": "SRMcsl9uQySZ",
        "colab_type": "code",
        "outputId": "4eea5a2c-7db5-4518-da5a-eaf21f54536e",
        "colab": {
          "base_uri": "https://localhost:8080/",
          "height": 156
        }
      },
      "source": [
        "(train_images, train_labels), (test_images, test_labels) = data.load_data()"
      ],
      "execution_count": 0,
      "outputs": [
        {
          "output_type": "stream",
          "text": [
            "Downloading data from https://storage.googleapis.com/tensorflow/tf-keras-datasets/train-labels-idx1-ubyte.gz\n",
            "32768/29515 [=================================] - 0s 0us/step\n",
            "Downloading data from https://storage.googleapis.com/tensorflow/tf-keras-datasets/train-images-idx3-ubyte.gz\n",
            "26427392/26421880 [==============================] - 0s 0us/step\n",
            "Downloading data from https://storage.googleapis.com/tensorflow/tf-keras-datasets/t10k-labels-idx1-ubyte.gz\n",
            "8192/5148 [===============================================] - 0s 0us/step\n",
            "Downloading data from https://storage.googleapis.com/tensorflow/tf-keras-datasets/t10k-images-idx3-ubyte.gz\n",
            "4423680/4422102 [==============================] - 0s 0us/step\n"
          ],
          "name": "stdout"
        }
      ]
    },
    {
      "cell_type": "code",
      "metadata": {
        "id": "YXiNTihIRbYW",
        "colab_type": "code",
        "outputId": "087c9b6c-1f1e-45cd-a025-a6add99bc86d",
        "colab": {
          "base_uri": "https://localhost:8080/",
          "height": 34
        }
      },
      "source": [
        "print(train_labels[6])"
      ],
      "execution_count": 0,
      "outputs": [
        {
          "output_type": "stream",
          "text": [
            "7\n"
          ],
          "name": "stdout"
        }
      ]
    },
    {
      "cell_type": "code",
      "metadata": {
        "id": "5AUQ6Em9Rlul",
        "colab_type": "code",
        "colab": {}
      },
      "source": [
        "class_names = ['T-shirt/top', 'Trouser', 'Pullover', 'Dress', 'Coat',\n",
        "               'Sandal', 'Shirt', 'Sneaker', 'Bag', 'Ankle boot']"
      ],
      "execution_count": 0,
      "outputs": []
    },
    {
      "cell_type": "code",
      "metadata": {
        "id": "FWdXuxinR-2i",
        "colab_type": "code",
        "outputId": "9d90df16-19c4-4db8-db59-69c6f5ce1a76",
        "colab": {
          "base_uri": "https://localhost:8080/",
          "height": 269
        }
      },
      "source": [
        "plt.imshow(train_images[7], cmap = plt.cm.binary)\n",
        "plt.show()"
      ],
      "execution_count": 0,
      "outputs": [
        {
          "output_type": "display_data",
          "data": {
            "image/png": "[encoded data removed]",
            "text/plain": [
              "<Figure size 432x288 with 1 Axes>"
            ]
          },
          "metadata": {
            "tags": []
          }
        }
      ]
    },
    {
      "cell_type": "code",
      "metadata": {
        "id": "_u0JiGWxSU5z",
        "colab_type": "code",
        "outputId": "dfef269a-0167-4c72-f762-26b43a35d0f4",
        "colab": {
          "base_uri": "https://localhost:8080/",
          "height": 990
        }
      },
      "source": [
        "print(train_images[7])"
      ],
      "execution_count": 0,
      "outputs": [
        {
          "output_type": "stream",
          "text": [
            "[[  0   0   0   0   0   1   1   0   0   0   0  63  28   0   0   0  33  85\n",
            "    0   0   0   0   0   0   0   0   0   0]\n",
            " [  0   0   0   0   0   2   0   0  28 126 241 255 255 255 255 255 255 252\n",
            "  248 111   0   0   0   2   0   0   0   0]\n",
            " [  0   0   0   0   2   0   0 206 244 251 241 230 238 221 205 230 240 230\n",
            "  239 251 233 165   0   0   2   0   0   0]\n",
            " [  0   0   0   1   0   0 199 251 228 234 233 236 235 245 247 237 234 239\n",
            "  230 230 235 255 176   0   0   1   0   0]\n",
            " [  0   0   0   0   0  81 254 226 228 239 237 236 234 232 233 235 235 236\n",
            "  239 237 233 225 246  73   0   0   0   0]\n",
            " [  0   0   3   0   0 255 235 239 223 234 238 236 237 236 235 235 235 235\n",
            "  236 235 234 230 231 255  24   0   4   0]\n",
            " [  0   0   0   0 177 239 223 254 223 232 234 234 236 236 235 235 235 235\n",
            "  235 234 231 233 222 246  88   0   1   0]\n",
            " [  0   0   0   0 234 239 229 255 220 232 233 232 234 235 235 235 235 235\n",
            "  234 233 232 230 228 254 140   0   0   0]\n",
            " [  0   0   0   0 225 240 226 255 221 227 232 228 231 230 228 229 231 230\n",
            "  228 228 232 223 229 244 231   0   0   0]\n",
            " [  0   0   0  47 245 231 234 249 229 221 229 225 229 227 226 227 228 227\n",
            "  228 229 228 224 246 240 227   0   0   0]\n",
            " [  0   0   0  51 248 230 245 246 230 226 230 227 230 229 228 229 230 228\n",
            "  228 231 225 227 242 237 255   0   0   0]\n",
            " [  0   0   0 101 253 229 247 241 221 233 228 227 229 228 227 228 230 227\n",
            "  230 234 225 229 251 229 243  55   0   0]\n",
            " [  0   0   0 102 255 227 242 241 221 234 223 230 228 231 229 231 231 227\n",
            "  229 241 219 236 254 225 250 167   0   0]\n",
            " [  0   0   0  90 255 229 236 231 222 236 223 231 229 231 229 231 231 228\n",
            "  224 245 218 243 239 227 244 175   0   0]\n",
            " [  0   0   0 212 250 225 236 249 229 237 223 231 229 231 229 231 231 230\n",
            "  221 243 225 248 230 236 234 255   1   0]\n",
            " [  0   0   0 245 243 232 243 218 228 238 222 231 229 231 229 231 231 230\n",
            "  222 237 237 252 229 239 240 223   0   0]\n",
            " [  0   0  27 255 235 242 237 216 230 236 224 229 227 233 233 233 230 228\n",
            "  224 230 245 247 221 243 239 252   0   0]\n",
            " [  0   0  88 255 232 248 236 208 234 231 223 227 226 233 232 232 230 228\n",
            "  224 224 235 233 234 247 235 255   0   0]\n",
            " [  0   0  83 255 225 250 237 224 236 229 225 225 227 235 229 231 230 230\n",
            "  227 221 227 221 239 250 231 255   0   0]\n",
            " [  0   0  20 255 224 248 234 226 232 222 225 224 231 238 226 230 228 230\n",
            "  230 221 229 225 244 246 230 255   0   0]\n",
            " [  0   0  95 255 218 242 255 232 226 224 229 228 228 232 228 229 231 233\n",
            "  232 226 221 224 247 244 228 255   0   0]\n",
            " [  0   0 167 255 213 235 255  81 245 251 238 236 230 229 230 229 230 231\n",
            "  238 240 255 192 255 239 228 255  23   0]\n",
            " [  0   0 173 242 224 233 255   0 136 226 239 255 229 236 236 234 233 228\n",
            "  251 248 200  81 255 237 225 255 101   0]\n",
            " [  0   0 172 255 226 233 255   0   0   0   0   0   8  21  22  21  20  14\n",
            "    0   0   0   0 255 238 229 246 178   0]\n",
            " [  0   0  16 255 236 238 252   0   0   0   0   0   0   0   0   0   0   0\n",
            "    0   0   0   0 222 244 222 254 119   0]\n",
            " [  0   0   0  30 228 242 163   0   0   0   0   2   4   6   5   5   4   4\n",
            "    2   0   1   0 151 251 235 180   0   0]\n",
            " [  0   0   0   0 234 255 191   0  11   0   0   0   0   0   0   0   0   0\n",
            "    0   0   4   0 103 246 247  72   0   0]\n",
            " [  0   0   0   1  95  77  52   0   4   0   0   0   0   0   0   0   0   0\n",
            "    0   0   3   0  82 237 231  70   0   0]]\n"
          ],
          "name": "stdout"
        }
      ]
    },
    {
      "cell_type": "code",
      "metadata": {
        "id": "A7H7II4-S7KL",
        "colab_type": "code",
        "outputId": "c4b49d31-8e27-4243-dc42-3ba1aea765f5",
        "colab": {
          "base_uri": "https://localhost:8080/",
          "height": 34
        }
      },
      "source": [
        "print(train_images[7].shape)"
      ],
      "execution_count": 0,
      "outputs": [
        {
          "output_type": "stream",
          "text": [
            "(28, 28)\n"
          ],
          "name": "stdout"
        }
      ]
    },
    {
      "cell_type": "code",
      "metadata": {
        "id": "99df2l4CTAFX",
        "colab_type": "code",
        "colab": {}
      },
      "source": [
        "train_images = train_images/255.0\n",
        "test_images = test_images/255.0"
      ],
      "execution_count": 0,
      "outputs": []
    },
    {
      "cell_type": "code",
      "metadata": {
        "id": "j9eYnGdyTpC9",
        "colab_type": "code",
        "outputId": "eae3b20d-ea91-4622-e488-0e5da54fabca",
        "colab": {
          "base_uri": "https://localhost:8080/",
          "height": 1000
        }
      },
      "source": [
        "test_images[0]"
      ],
      "execution_count": 0,
      "outputs": [
        {
          "output_type": "execute_result",
          "data": {
            "text/plain": [
              "array([[0.        , 0.        , 0.        , 0.        , 0.        ,\n",
              "        0.        , 0.        , 0.        , 0.        , 0.        ,\n",
              "        0.        , 0.        , 0.        , 0.        , 0.        ,\n",
              "        0.        , 0.        , 0.        , 0.        , 0.        ,\n",
              "        0.        , 0.        , 0.        , 0.        , 0.        ,\n",
              "        0.        , 0.        , 0.        ],\n",
              "       [0.        , 0.        , 0.        , 0.        , 0.        ,\n",
              "        0.        , 0.        , 0.        , 0.        , 0.        ,\n",
              "        0.        , 0.        , 0.        , 0.        , 0.        ,\n",
              "        0.        , 0.        , 0.        , 0.        , 0.        ,\n",
              "        0.        , 0.        , 0.        , 0.        , 0.        ,\n",
              "        0.        , 0.        , 0.        ],\n",
              "       [0.        , 0.        , 0.        , 0.        , 0.        ,\n",
              "        0.        , 0.        , 0.        , 0.        , 0.        ,\n",
              "        0.        , 0.        , 0.        , 0.        , 0.        ,\n",
              "        0.        , 0.        , 0.        , 0.        , 0.        ,\n",
              "        0.        , 0.        , 0.        , 0.        , 0.        ,\n",
              "        0.        , 0.        , 0.        ],\n",
              "       [0.        , 0.        , 0.        , 0.        , 0.        ,\n",
              "        0.        , 0.        , 0.        , 0.        , 0.        ,\n",
              "        0.        , 0.        , 0.        , 0.        , 0.        ,\n",
              "        0.        , 0.        , 0.        , 0.        , 0.        ,\n",
              "        0.        , 0.        , 0.        , 0.        , 0.        ,\n",
              "        0.        , 0.        , 0.        ],\n",
              "       [0.        , 0.        , 0.        , 0.        , 0.        ,\n",
              "        0.        , 0.        , 0.        , 0.        , 0.        ,\n",
              "        0.        , 0.        , 0.        , 0.        , 0.        ,\n",
              "        0.        , 0.        , 0.        , 0.        , 0.        ,\n",
              "        0.        , 0.        , 0.        , 0.        , 0.        ,\n",
              "        0.        , 0.        , 0.        ],\n",
              "       [0.        , 0.        , 0.        , 0.        , 0.        ,\n",
              "        0.        , 0.        , 0.        , 0.        , 0.        ,\n",
              "        0.        , 0.        , 0.        , 0.        , 0.        ,\n",
              "        0.        , 0.        , 0.        , 0.        , 0.        ,\n",
              "        0.        , 0.        , 0.        , 0.        , 0.        ,\n",
              "        0.        , 0.        , 0.        ],\n",
              "       [0.        , 0.        , 0.        , 0.        , 0.        ,\n",
              "        0.        , 0.        , 0.        , 0.        , 0.        ,\n",
              "        0.        , 0.        , 0.        , 0.        , 0.        ,\n",
              "        0.        , 0.        , 0.        , 0.        , 0.        ,\n",
              "        0.        , 0.        , 0.        , 0.        , 0.        ,\n",
              "        0.        , 0.        , 0.        ],\n",
              "       [0.        , 0.        , 0.        , 0.        , 0.        ,\n",
              "        0.        , 0.        , 0.        , 0.        , 0.        ,\n",
              "        0.        , 0.        , 0.        , 0.        , 0.        ,\n",
              "        0.        , 0.        , 0.        , 0.        , 0.01176471,\n",
              "        0.00392157, 0.        , 0.        , 0.02745098, 0.        ,\n",
              "        0.14509804, 0.        , 0.        ],\n",
              "       [0.        , 0.        , 0.        , 0.        , 0.        ,\n",
              "        0.        , 0.        , 0.        , 0.        , 0.        ,\n",
              "        0.        , 0.        , 0.        , 0.00392157, 0.00784314,\n",
              "        0.        , 0.10588235, 0.32941176, 0.04313725, 0.        ,\n",
              "        0.        , 0.        , 0.        , 0.        , 0.        ,\n",
              "        0.46666667, 0.        , 0.        ],\n",
              "       [0.        , 0.        , 0.        , 0.        , 0.        ,\n",
              "        0.        , 0.        , 0.        , 0.        , 0.        ,\n",
              "        0.        , 0.        , 0.        , 0.00392157, 0.        ,\n",
              "        0.        , 0.34509804, 0.56078431, 0.43137255, 0.        ,\n",
              "        0.        , 0.        , 0.        , 0.08627451, 0.36470588,\n",
              "        0.41568627, 0.        , 0.        ],\n",
              "       [0.        , 0.        , 0.        , 0.        , 0.        ,\n",
              "        0.        , 0.        , 0.        , 0.        , 0.        ,\n",
              "        0.        , 0.        , 0.        , 0.01568627, 0.        ,\n",
              "        0.20784314, 0.50588235, 0.47058824, 0.57647059, 0.68627451,\n",
              "        0.61568627, 0.65098039, 0.52941176, 0.60392157, 0.65882353,\n",
              "        0.54901961, 0.        , 0.        ],\n",
              "       [0.        , 0.        , 0.        , 0.        , 0.        ,\n",
              "        0.        , 0.        , 0.        , 0.        , 0.        ,\n",
              "        0.        , 0.        , 0.00784314, 0.        , 0.04313725,\n",
              "        0.5372549 , 0.50980392, 0.50196078, 0.62745098, 0.69019608,\n",
              "        0.62352941, 0.65490196, 0.69803922, 0.58431373, 0.59215686,\n",
              "        0.56470588, 0.        , 0.        ],\n",
              "       [0.        , 0.        , 0.        , 0.        , 0.        ,\n",
              "        0.        , 0.00392157, 0.        , 0.00784314, 0.00392157,\n",
              "        0.        , 0.01176471, 0.        , 0.        , 0.45098039,\n",
              "        0.44705882, 0.41568627, 0.5372549 , 0.65882353, 0.6       ,\n",
              "        0.61176471, 0.64705882, 0.65490196, 0.56078431, 0.61568627,\n",
              "        0.61960784, 0.04313725, 0.        ],\n",
              "       [0.        , 0.        , 0.        , 0.        , 0.00392157,\n",
              "        0.        , 0.        , 0.        , 0.        , 0.        ,\n",
              "        0.01176471, 0.        , 0.        , 0.34901961, 0.54509804,\n",
              "        0.35294118, 0.36862745, 0.6       , 0.58431373, 0.51372549,\n",
              "        0.59215686, 0.6627451 , 0.6745098 , 0.56078431, 0.62352941,\n",
              "        0.6627451 , 0.18823529, 0.        ],\n",
              "       [0.        , 0.        , 0.        , 0.        , 0.        ,\n",
              "        0.        , 0.00784314, 0.01568627, 0.00392157, 0.        ,\n",
              "        0.        , 0.        , 0.38431373, 0.53333333, 0.43137255,\n",
              "        0.42745098, 0.43137255, 0.63529412, 0.52941176, 0.56470588,\n",
              "        0.58431373, 0.62352941, 0.65490196, 0.56470588, 0.61960784,\n",
              "        0.6627451 , 0.46666667, 0.        ],\n",
              "       [0.        , 0.        , 0.00784314, 0.00784314, 0.00392157,\n",
              "        0.00784314, 0.        , 0.        , 0.        , 0.        ,\n",
              "        0.10196078, 0.42352941, 0.45882353, 0.38823529, 0.43529412,\n",
              "        0.45882353, 0.53333333, 0.61176471, 0.5254902 , 0.60392157,\n",
              "        0.60392157, 0.61176471, 0.62745098, 0.55294118, 0.57647059,\n",
              "        0.61176471, 0.69803922, 0.        ],\n",
              "       [0.01176471, 0.        , 0.        , 0.        , 0.        ,\n",
              "        0.        , 0.        , 0.08235294, 0.20784314, 0.36078431,\n",
              "        0.45882353, 0.43529412, 0.40392157, 0.45098039, 0.50588235,\n",
              "        0.5254902 , 0.56078431, 0.60392157, 0.64705882, 0.66666667,\n",
              "        0.60392157, 0.59215686, 0.60392157, 0.56078431, 0.54117647,\n",
              "        0.58823529, 0.64705882, 0.16862745],\n",
              "       [0.        , 0.        , 0.09019608, 0.21176471, 0.25490196,\n",
              "        0.29803922, 0.33333333, 0.4627451 , 0.50196078, 0.48235294,\n",
              "        0.43529412, 0.44313725, 0.4627451 , 0.49803922, 0.49019608,\n",
              "        0.54509804, 0.52156863, 0.53333333, 0.62745098, 0.54901961,\n",
              "        0.60784314, 0.63137255, 0.56470588, 0.60784314, 0.6745098 ,\n",
              "        0.63137255, 0.74117647, 0.24313725],\n",
              "       [0.        , 0.26666667, 0.36862745, 0.35294118, 0.43529412,\n",
              "        0.44705882, 0.43529412, 0.44705882, 0.45098039, 0.49803922,\n",
              "        0.52941176, 0.53333333, 0.56078431, 0.49411765, 0.49803922,\n",
              "        0.59215686, 0.60392157, 0.56078431, 0.58039216, 0.49019608,\n",
              "        0.63529412, 0.63529412, 0.56470588, 0.54117647, 0.6       ,\n",
              "        0.63529412, 0.76862745, 0.22745098],\n",
              "       [0.2745098 , 0.6627451 , 0.50588235, 0.40784314, 0.38431373,\n",
              "        0.39215686, 0.36862745, 0.38039216, 0.38431373, 0.4       ,\n",
              "        0.42352941, 0.41568627, 0.46666667, 0.47058824, 0.50588235,\n",
              "        0.58431373, 0.61176471, 0.65490196, 0.74509804, 0.74509804,\n",
              "        0.76862745, 0.77647059, 0.77647059, 0.73333333, 0.77254902,\n",
              "        0.74117647, 0.72156863, 0.14117647],\n",
              "       [0.0627451 , 0.49411765, 0.67058824, 0.7372549 , 0.7372549 ,\n",
              "        0.72156863, 0.67058824, 0.6       , 0.52941176, 0.47058824,\n",
              "        0.49411765, 0.49803922, 0.57254902, 0.7254902 , 0.76470588,\n",
              "        0.81960784, 0.81568627, 1.        , 0.81960784, 0.69411765,\n",
              "        0.96078431, 0.98823529, 0.98431373, 0.98431373, 0.96862745,\n",
              "        0.8627451 , 0.80784314, 0.19215686],\n",
              "       [0.        , 0.        , 0.        , 0.04705882, 0.2627451 ,\n",
              "        0.41568627, 0.64313725, 0.7254902 , 0.78039216, 0.82352941,\n",
              "        0.82745098, 0.82352941, 0.81568627, 0.74509804, 0.58823529,\n",
              "        0.32156863, 0.03137255, 0.        , 0.        , 0.        ,\n",
              "        0.69803922, 0.81568627, 0.7372549 , 0.68627451, 0.63529412,\n",
              "        0.61960784, 0.59215686, 0.04313725],\n",
              "       [0.        , 0.        , 0.        , 0.        , 0.        ,\n",
              "        0.        , 0.        , 0.        , 0.        , 0.        ,\n",
              "        0.        , 0.        , 0.        , 0.        , 0.        ,\n",
              "        0.        , 0.        , 0.        , 0.        , 0.        ,\n",
              "        0.        , 0.        , 0.        , 0.        , 0.        ,\n",
              "        0.        , 0.        , 0.        ],\n",
              "       [0.        , 0.        , 0.        , 0.        , 0.        ,\n",
              "        0.        , 0.        , 0.        , 0.        , 0.        ,\n",
              "        0.        , 0.        , 0.        , 0.        , 0.        ,\n",
              "        0.        , 0.        , 0.        , 0.        , 0.        ,\n",
              "        0.        , 0.        , 0.        , 0.        , 0.        ,\n",
              "        0.        , 0.        , 0.        ],\n",
              "       [0.        , 0.        , 0.        , 0.        , 0.        ,\n",
              "        0.        , 0.        , 0.        , 0.        , 0.        ,\n",
              "        0.        , 0.        , 0.        , 0.        , 0.        ,\n",
              "        0.        , 0.        , 0.        , 0.        , 0.        ,\n",
              "        0.        , 0.        , 0.        , 0.        , 0.        ,\n",
              "        0.        , 0.        , 0.        ],\n",
              "       [0.        , 0.        , 0.        , 0.        , 0.        ,\n",
              "        0.        , 0.        , 0.        , 0.        , 0.        ,\n",
              "        0.        , 0.        , 0.        , 0.        , 0.        ,\n",
              "        0.        , 0.        , 0.        , 0.        , 0.        ,\n",
              "        0.        , 0.        , 0.        , 0.        , 0.        ,\n",
              "        0.        , 0.        , 0.        ],\n",
              "       [0.        , 0.        , 0.        , 0.        , 0.        ,\n",
              "        0.        , 0.        , 0.        , 0.        , 0.        ,\n",
              "        0.        , 0.        , 0.        , 0.        , 0.        ,\n",
              "        0.        , 0.        , 0.        , 0.        , 0.        ,\n",
              "        0.        , 0.        , 0.        , 0.        , 0.        ,\n",
              "        0.        , 0.        , 0.        ],\n",
              "       [0.        , 0.        , 0.        , 0.        , 0.        ,\n",
              "        0.        , 0.        , 0.        , 0.        , 0.        ,\n",
              "        0.        , 0.        , 0.        , 0.        , 0.        ,\n",
              "        0.        , 0.        , 0.        , 0.        , 0.        ,\n",
              "        0.        , 0.        , 0.        , 0.        , 0.        ,\n",
              "        0.        , 0.        , 0.        ]])"
            ]
          },
          "metadata": {
            "tags": []
          },
          "execution_count": 22
        }
      ]
    },
    {
      "cell_type": "code",
      "metadata": {
        "id": "tlDJHtEmT05A",
        "colab_type": "code",
        "colab": {}
      },
      "source": [
        ""
      ],
      "execution_count": 0,
      "outputs": []
    },
    {
      "cell_type": "markdown",
      "metadata": {
        "id": "L9_MsO4AUsBd",
        "colab_type": "text"
      },
      "source": [
        "##Creating a Model"
      ]
    },
    {
      "cell_type": "code",
      "metadata": {
        "id": "87jcm4klU84u",
        "colab_type": "code",
        "outputId": "6192f7f0-d597-4bc4-8990-44882f334a93",
        "colab": {
          "base_uri": "https://localhost:8080/",
          "height": 89
        }
      },
      "source": [
        "model = keras.Sequential([keras.layers.Flatten(input_shape = (28, 28)), \n",
        "                          keras.layers.Dense(128, activation=\"relu\"), \n",
        "                          keras.layers.Dense(10, activation=\"softmax\")])"
      ],
      "execution_count": 0,
      "outputs": [
        {
          "output_type": "stream",
          "text": [
            "WARNING:tensorflow:From /usr/local/lib/python3.6/dist-packages/tensorflow/python/ops/init_ops.py:1251: calling VarianceScaling.__init__ (from tensorflow.python.ops.init_ops) with dtype is deprecated and will be removed in a future version.\n",
            "Instructions for updating:\n",
            "Call initializer instance with the dtype argument instead of passing it to the constructor\n"
          ],
          "name": "stdout"
        }
      ]
    },
    {
      "cell_type": "code",
      "metadata": {
        "id": "CL1A-y-7U_Cz",
        "colab_type": "code",
        "colab": {}
      },
      "source": [
        "model.compile(optimizer = \"adam\", loss = \"sparse_categorical_crossentropy\", metrics = [\"accuracy\"])"
      ],
      "execution_count": 0,
      "outputs": []
    },
    {
      "cell_type": "code",
      "metadata": {
        "id": "Dq1QxCTUaOAg",
        "colab_type": "code",
        "outputId": "8fe1673d-97e0-41cc-86ef-66bed44df8c7",
        "colab": {
          "base_uri": "https://localhost:8080/",
          "height": 382
        }
      },
      "source": [
        "model.fit(train_images, train_labels, epochs = 10)"
      ],
      "execution_count": 0,
      "outputs": [
        {
          "output_type": "stream",
          "text": [
            "Epoch 1/10\n",
            "60000/60000 [==============================] - 6s 94us/sample - loss: 0.4241 - acc: 0.8511\n",
            "Epoch 2/10\n",
            "60000/60000 [==============================] - 6s 93us/sample - loss: 0.4178 - acc: 0.8526\n",
            "Epoch 3/10\n",
            "60000/60000 [==============================] - 6s 98us/sample - loss: 0.4118 - acc: 0.8539\n",
            "Epoch 4/10\n",
            "60000/60000 [==============================] - 6s 97us/sample - loss: 0.4063 - acc: 0.8571\n",
            "Epoch 5/10\n",
            "60000/60000 [==============================] - 6s 95us/sample - loss: 0.4013 - acc: 0.8571\n",
            "Epoch 6/10\n",
            "60000/60000 [==============================] - 6s 94us/sample - loss: 0.3964 - acc: 0.8602\n",
            "Epoch 7/10\n",
            "60000/60000 [==============================] - 6s 95us/sample - loss: 0.3923 - acc: 0.8615\n",
            "Epoch 8/10\n",
            "60000/60000 [==============================] - 6s 94us/sample - loss: 0.3882 - acc: 0.8625\n",
            "Epoch 9/10\n",
            "60000/60000 [==============================] - 6s 95us/sample - loss: 0.3833 - acc: 0.8644\n",
            "Epoch 10/10\n",
            "60000/60000 [==============================] - 6s 96us/sample - loss: 0.3799 - acc: 0.8659\n"
          ],
          "name": "stdout"
        },
        {
          "output_type": "execute_result",
          "data": {
            "text/plain": [
              "<tensorflow.python.keras.callbacks.History at 0x7f012595b2e8>"
            ]
          },
          "metadata": {
            "tags": []
          },
          "execution_count": 39
        }
      ]
    },
    {
      "cell_type": "code",
      "metadata": {
        "id": "FFYuf6e-a1Sp",
        "colab_type": "code",
        "outputId": "8f3123d5-7a50-4956-d954-f80e927a4884",
        "colab": {
          "base_uri": "https://localhost:8080/",
          "height": 34
        }
      },
      "source": [
        "test_loss, test_acc = model.evaluate(test_images, test_labels)"
      ],
      "execution_count": 0,
      "outputs": [
        {
          "output_type": "stream",
          "text": [
            "10000/10000 [==============================] - 1s 63us/sample - loss: 86.7977 - acc: 0.7117\n"
          ],
          "name": "stdout"
        }
      ]
    },
    {
      "cell_type": "code",
      "metadata": {
        "id": "ZA8tJBhFbDTn",
        "colab_type": "code",
        "outputId": "94b80a51-12e2-4a1c-8d37-5383dc128780",
        "colab": {
          "base_uri": "https://localhost:8080/",
          "height": 34
        }
      },
      "source": [
        "print(\"Tested Accuract:\", test_acc)"
      ],
      "execution_count": 0,
      "outputs": [
        {
          "output_type": "stream",
          "text": [
            "Tested Accuract: 0.7117\n"
          ],
          "name": "stdout"
        }
      ]
    },
    {
      "cell_type": "markdown",
      "metadata": {
        "id": "K-ysgluZcxCl",
        "colab_type": "text"
      },
      "source": [
        "##Using the model to make predictions"
      ]
    },
    {
      "cell_type": "code",
      "metadata": {
        "id": "Hax_-oofc4WH",
        "colab_type": "code",
        "colab": {}
      },
      "source": [
        "prediction = model.predict(test_images)"
      ],
      "execution_count": 0,
      "outputs": []
    },
    {
      "cell_type": "code",
      "metadata": {
        "id": "Tt9yllUMds9Z",
        "colab_type": "code",
        "outputId": "4eca2ba3-5f87-4374-e793-03782ec008ec",
        "colab": {
          "base_uri": "https://localhost:8080/",
          "height": 139
        }
      },
      "source": [
        "print(prediction)"
      ],
      "execution_count": 0,
      "outputs": [
        {
          "output_type": "stream",
          "text": [
            "[[0. 0. 0. ... 0. 0. 1.]\n",
            " [0. 0. 1. ... 0. 0. 0.]\n",
            " [0. 1. 0. ... 0. 0. 0.]\n",
            " ...\n",
            " [0. 0. 0. ... 0. 1. 0.]\n",
            " [0. 1. 0. ... 0. 0. 0.]\n",
            " [0. 0. 0. ... 0. 1. 0.]]\n"
          ],
          "name": "stdout"
        }
      ]
    },
    {
      "cell_type": "code",
      "metadata": {
        "id": "TMU2XyVQdzVJ",
        "colab_type": "code",
        "outputId": "c6718a55-9256-4f41-e74e-cb60203ab88a",
        "colab": {
          "base_uri": "https://localhost:8080/",
          "height": 34
        }
      },
      "source": [
        "print(class_names[np.argmax(prediction[0])])"
      ],
      "execution_count": 0,
      "outputs": [
        {
          "output_type": "stream",
          "text": [
            "Ankle boot\n"
          ],
          "name": "stdout"
        }
      ]
    },
    {
      "cell_type": "code",
      "metadata": {
        "id": "mb6WZF73eh8E",
        "colab_type": "code",
        "outputId": "0dff6b8b-959f-4419-f3a1-09cfaffe5078",
        "colab": {
          "base_uri": "https://localhost:8080/",
          "height": 269
        }
      },
      "source": [
        "plt.imshow(test_images[0], cmap = plt.cm.binary)\n",
        "plt.show()"
      ],
      "execution_count": 0,
      "outputs": [
        {
          "output_type": "display_data",
          "data": {
            "image/png": "[encoded data removed]",
            "text/plain": [
              "<Figure size 432x288 with 1 Axes>"
            ]
          },
          "metadata": {
            "tags": []
          }
        }
      ]
    },
    {
      "cell_type": "code",
      "metadata": {
        "id": "RirWuTpPeriz",
        "colab_type": "code",
        "outputId": "5a61c722-b19c-40c0-9576-267cdd6e7912",
        "colab": {
          "base_uri": "https://localhost:8080/",
          "height": 1000
        }
      },
      "source": [
        "for i in range(5):\n",
        "  plt.grid(False)\n",
        "  plt.imshow(test_images[i], cmap = plt.cm.binary)\n",
        "  plt.xlabel(\"Actual: \" + class_names[test_labels[i]])\n",
        "  plt.title(\"Prediction: \" + class_names[np.argmax(prediction[i])])\n",
        "  plt.show()"
      ],
      "execution_count": 0,
      "outputs": [
        {
          "output_type": "display_data",
          "data": {
            "image/png": "[encoded data removed]",
            "text/plain": [
              "<Figure size 432x288 with 1 Axes>"
            ]
          },
          "metadata": {
            "tags": []
          }
        },
        {
          "output_type": "display_data",
          "data": {
            "image/png": "[encoded data removed]",
            "text/plain": [
              "<Figure size 432x288 with 1 Axes>"
            ]
          },
          "metadata": {
            "tags": []
          }
        },
        {
          "output_type": "display_data",
          "data": {
            "image/png": "[encoded data removed]",
            "text/plain": [
              "<Figure size 432x288 with 1 Axes>"
            ]
          },
          "metadata": {
            "tags": []
          }
        },
        {
          "output_type": "display_data",
          "data": {
            "image/png": "[encoded data removed]",
            "text/plain": [
              "<Figure size 432x288 with 1 Axes>"
            ]
          },
          "metadata": {
            "tags": []
          }
        },
        {
          "output_type": "display_data",
          "data": {
            "image/png": "[encoded data removed]",
            "text/plain": [
              "<Figure size 432x288 with 1 Axes>"
            ]
          },
          "metadata": {
            "tags": []
          }
        }
      ]
    },
    {
      "cell_type": "code",
      "metadata": {
        "id": "SMfqhBDBf_pw",
        "colab_type": "code",
        "colab": {}
      },
      "source": [
        ""
      ],
      "execution_count": 0,
      "outputs": []
    }
  ]
}